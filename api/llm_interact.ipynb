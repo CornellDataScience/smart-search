{
 "cells": [
  {
   "cell_type": "code",
   "execution_count": 2,
   "metadata": {},
   "outputs": [],
   "source": [
    "from api import get_llm_prompt, query"
   ]
  },
  {
   "cell_type": "code",
   "execution_count": 12,
   "metadata": {},
   "outputs": [
    {
     "name": "stdout",
     "output_type": "stream",
     "text": [
      "['test']\n",
      "existing collections: ---------\n",
      "['test']\n",
      "Collection 'test' exists. Getting existing...\n",
      "Retrieved.\n"
     ]
    }
   ],
   "source": [
    "q = \"How does the mathsearch project use computer vision?\"\n",
    "results = query(q)"
   ]
  },
  {
   "cell_type": "code",
   "execution_count": null,
   "metadata": {},
   "outputs": [
    {
     "data": {
      "text/plain": [
       "Document(metadata={'code': '    def __init__(\\n        self,\\n        path,\\n        img_size=640,\\n        batch_size=16,\\n        augment=False,\\n        hyp=None,\\n        rect=False,\\n        image_weights=False,\\n        cache_images=False,\\n        single_cls=False,\\n        stride=32,\\n        pad=0,\\n        min_items=0,\\n        prefix=\"\",\\n        downsample_ratio=1,\\n        overlap=False,\\n    ):\\n        super().__init__(path, img_size, batch_size, augment, hyp, rect, image_weights, cache_images, single_cls,\\n                         stride, pad, min_items, prefix)\\n        self.downsample_ratio = downsample_ratio\\n        self.overlap = overlap', 'context': 'Context: Repository: ./data/MathSearch\\n'}, page_content=\"This class initializes a data repository for the MathSearch task. \\n\\nIt takes various parameters that define how to load and preprocess the dataset:\\n\\n- The path to the repository.\\n- Image size (default is 640 pixels).\\n- Batch size (default is 16 images per batch).\\n- Whether to use augmentations on the input data (default is False).\\n- Hyperparameters for customizing the model's behavior.\\n- Other settings, including downsampling ratio and overlap, which are specific to this task. \\n\\nIt appears that this class is part of a larger framework or library designed for loading and processing image datasets in deep learning tasks.\")"
      ]
     },
     "execution_count": 13,
     "metadata": {},
     "output_type": "execute_result"
    }
   ],
   "source": [
    "results[0]"
   ]
  },
  {
   "cell_type": "code",
   "execution_count": 15,
   "metadata": {},
   "outputs": [
    {
     "name": "stdout",
     "output_type": "stream",
     "text": [
      "    def __init__(self, training_csv=None, training_dir=None, transform=None):\n",
      "        # used to prepare the labels and images path\n",
      "        self.train_df = pd.read_csv(training_csv)\n",
      "        # self.train_df = pd.read_csv(training_csv)\n",
      "        # self.train_df.columns = [\"image1\", \"image2\", \"label\"]\n",
      "        self.train_dir = training_dir\n",
      "        self.transform = transform\n"
     ]
    }
   ],
   "source": [
    "print(results[1].metadata['code'])"
   ]
  }
 ],
 "metadata": {
  "kernelspec": {
   "display_name": "venv",
   "language": "python",
   "name": "python3"
  },
  "language_info": {
   "codemirror_mode": {
    "name": "ipython",
    "version": 3
   },
   "file_extension": ".py",
   "mimetype": "text/x-python",
   "name": "python",
   "nbconvert_exporter": "python",
   "pygments_lexer": "ipython3",
   "version": "3.11.5"
  }
 },
 "nbformat": 4,
 "nbformat_minor": 2
}
