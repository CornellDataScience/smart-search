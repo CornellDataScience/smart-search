{
 "cells": [
  {
   "cell_type": "code",
   "execution_count": 8,
   "id": "44ea943d",
   "metadata": {},
   "outputs": [],
   "source": [
    "from langchain.schema import Document\n",
    "import json\n",
    "\n",
    "def extract_documents(node, path_acc=\"\"):\n",
    "    # Extracts LangChain Documents from nested JSON data\n",
    "    \n",
    "    documents = []\n",
    "    name = node.get(\"name\", \"\")\n",
    "    current_path = f\"{path_acc}/{name}\".strip(\"/\")\n",
    "\n",
    "    # Final summary for file or directory\n",
    "    final = node.get(\"final_summary\")\n",
    "    if final and final.get(\"summary\") is not None:\n",
    "        documents.append(Document(\n",
    "            page_content=final[\"summary\"],\n",
    "            metadata={\n",
    "                \"type\": node.get(\"type\"),\n",
    "                \"name\": final.get(\"name\", \"\"),\n",
    "                \"path\": node.get(\"path\"),\n",
    "                \"code\": final.get(\"code\", \"\"),\n",
    "                \"summary\" : final[\"summary\"]\n",
    "            }\n",
    "        ))\n",
    "\n",
    "    # Function-level summaries inside PYTHON_FILEs\n",
    "    if node.get(\"type\") == \"PYTHON_FILE\":\n",
    "        curr_path = node['path']\n",
    "        for func in node.get(\"summaries\", []):\n",
    "            documents.append(Document(\n",
    "                page_content=f\"{func['summary']}\\n\\n{func['code']}\",\n",
    "                metadata={\n",
    "                    \"type\": \"FUNCTION\",\n",
    "                    \"name\": func[\"name\"],\n",
    "                    \"path\": curr_path,\n",
    "                    \"code\": func['code'],\n",
    "                    \"summary\": func['summary'],\n",
    "                }\n",
    "            ))\n",
    "\n",
    "    for child in node.get(\"children\", []):\n",
    "        documents.extend(extract_documents(child, current_path))\n",
    "\n",
    "    return documents\n",
    "\n",
    "# Get data\n",
    "with open(\"summary_output.json\", \"r\") as f:\n",
    "    data = json.load(f)\n",
    "    \n",
    "documents = extract_documents(data)"
   ]
  },
  {
   "cell_type": "code",
   "execution_count": 9,
   "id": "b1bd496b",
   "metadata": {},
   "outputs": [],
   "source": [
    "serializable_docs = [\n",
    "    {\"page_content\": doc.page_content, \"metadata\": doc.metadata}\n",
    "    for doc in documents\n",
    "]\n",
    "\n",
    "# Step 4: Write to file\n",
    "with open(\"langchain_docs.json\", \"w\", encoding=\"utf-8\") as f:\n",
    "    json.dump(serializable_docs, f, indent=2)"
   ]
  }
 ],
 "metadata": {
  "kernelspec": {
   "display_name": "venv",
   "language": "python",
   "name": "python3"
  },
  "language_info": {
   "codemirror_mode": {
    "name": "ipython",
    "version": 3
   },
   "file_extension": ".py",
   "mimetype": "text/x-python",
   "name": "python",
   "nbconvert_exporter": "python",
   "pygments_lexer": "ipython3",
   "version": "3.12.3"
  }
 },
 "nbformat": 4,
 "nbformat_minor": 5
}
