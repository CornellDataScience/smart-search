{
 "cells": [
  {
   "cell_type": "code",
   "execution_count": 1,
   "metadata": {},
   "outputs": [],
   "source": [
    "from typing import List\n"
   ]
  },
  {
   "cell_type": "code",
   "execution_count": 6,
   "metadata": {},
   "outputs": [],
   "source": [
    "def parse(file_path) -> List[str]: \n",
    "        '''\n",
    "        parse a .py file using the AST module into a list of strings, each string\n",
    "        containing the code of a function \n",
    "        '''\n",
    "        import ast\n",
    "        \n",
    "        functions = []\n",
    "        try:\n",
    "            with open(file_path, 'r') as f:\n",
    "                file_content = f.read()\n",
    "                \n",
    "            tree = ast.parse(file_content)\n",
    "            lines = file_content.splitlines()\n",
    "            \n",
    "            for node in ast.walk(tree):\n",
    "                if isinstance(node, ast.FunctionDef):\n",
    "                    # Get start line (1-based indexing in AST, convert to 0-indexed)\n",
    "                    start_line = node.lineno - 1\n",
    "                    \n",
    "                    # Find function end based on indentation\n",
    "                    base_indent = None\n",
    "                    end_line = len(lines)\n",
    "                    \n",
    "                    # Get the indentation of the function definition line\n",
    "                    first_line = lines[start_line]\n",
    "                    base_indent = len(first_line) - len(first_line.lstrip())\n",
    "                    \n",
    "                    # Find the end of the function\n",
    "                    for i, line in enumerate(lines[start_line + 1:], start_line + 1):\n",
    "                        if not line.strip() or line.strip().startswith('#'):\n",
    "                            continue\n",
    "                            \n",
    "                        curr_indent = len(line) - len(line.lstrip())\n",
    "                        if curr_indent <= base_indent:\n",
    "                            end_line = i\n",
    "                            break\n",
    "                    \n",
    "                    function_code = '\\n'.join(lines[start_line:end_line])\n",
    "                    functions.append(function_code)\n",
    "                    \n",
    "        except Exception as e:\n",
    "            print(f\"Error parsing file {file_path}: {e}\")\n",
    "            \n",
    "        return functions\n"
   ]
  },
  {
   "cell_type": "code",
   "execution_count": 15,
   "metadata": {},
   "outputs": [
    {
     "data": {
      "text/plain": [
       "['    def a(self):\\n        pass',\n",
       " '    def b(self):\\n        pass',\n",
       " '    def c(self):\\n        pass']"
      ]
     },
     "execution_count": 15,
     "metadata": {},
     "output_type": "execute_result"
    }
   ],
   "source": [
    "file_path = \"../tests/test.py\"\n",
    "parse(file_path)"
   ]
  },
  {
   "cell_type": "code",
   "execution_count": 16,
   "metadata": {},
   "outputs": [
    {
     "name": "stdout",
     "output_type": "stream",
     "text": [
      "class A: \n",
      "    def a(self):\n",
      "        pass\n",
      "    def b(self):\n",
      "        pass\n",
      "    def c(self):\n",
      "        pass\n"
     ]
    }
   ],
   "source": [
    "# Read the file\n",
    "with open(file_path, 'r') as f:\n",
    "    file_content = f.read()\n",
    "    print(file_content)"
   ]
  },
  {
   "cell_type": "code",
   "execution_count": null,
   "metadata": {},
   "outputs": [],
   "source": []
  }
 ],
 "metadata": {
  "kernelspec": {
   "display_name": "base",
   "language": "python",
   "name": "python3"
  },
  "language_info": {
   "codemirror_mode": {
    "name": "ipython",
    "version": 3
   },
   "file_extension": ".py",
   "mimetype": "text/x-python",
   "name": "python",
   "nbconvert_exporter": "python",
   "pygments_lexer": "ipython3",
   "version": "3.12.8"
  }
 },
 "nbformat": 4,
 "nbformat_minor": 2
}
